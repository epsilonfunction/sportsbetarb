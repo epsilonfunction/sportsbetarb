{
 "cells": [
  {
   "cell_type": "code",
   "execution_count": 1,
   "metadata": {},
   "outputs": [
    {
     "name": "stderr",
     "output_type": "stream",
     "text": [
      "C:\\Users\\fooji\\AppData\\Local\\Temp\\ipykernel_30860\\3328576184.py:2: DeprecationWarning: \n",
      "Pyarrow will become a required dependency of pandas in the next major release of pandas (pandas 3.0),\n",
      "(to allow more performant data types, such as the Arrow string type, and better interoperability with other libraries)\n",
      "but was not found to be installed on your system.\n",
      "If this would cause problems for you,\n",
      "please provide us feedback at https://github.com/pandas-dev/pandas/issues/54466\n",
      "        \n",
      "  import pandas as pd\n"
     ]
    }
   ],
   "source": [
    "import numpy as np \n",
    "import pandas as pd\n",
    "import time\n",
    "import json\n",
    "\n",
    "from selenium import webdriver\n",
    "from selenium.webdriver.common.keys import Keys\n",
    "from selenium.webdriver.common.by import By \n",
    "from selenium.webdriver.support.ui import Select\n",
    "from selenium.webdriver.support.wait import WebDriverWait \n",
    "from selenium.webdriver.support import expected_conditions as EC\n",
    "from selenium.webdriver import Chrome\n"
   ]
  },
  {
   "cell_type": "code",
   "execution_count": 4,
   "metadata": {},
   "outputs": [],
   "source": [
    "target_url = \"https://online.singaporepools.com/en/sports/category/1/football\"\n",
    "\n",
    "options = webdriver.ChromeOptions()\n",
    "options.add_argument(\"--headless\")\n",
    "driver = webdriver.Chrome(options=options)\n",
    "driver.get(target_url)\n",
    "\n",
    "with open(\"sg_pools2.json\", \"w\") as json_file:\n",
    "    json_file.write(\"\")\n",
    "\n",
    "# WebDriverWait(driver,20)\n",
    "time.sleep(3)\n",
    "\n",
    "# Get all bet types possible\n",
    "bet_type_specific = driver.find_element(By.XPATH, \"//select[@class='form-control event-list__filter__market-sort']\")\n",
    "bet_type_list=bet_type_specific.text.split('\\n')\n",
    "# bet_type_list=bet_type_specific.json()\n",
    "all_bet_list = {'bet_list':bet_type_list}\n",
    "with open(\"sg_pools2.json\", \"a\") as json_file:\n",
    "    json_file.write(json.dumps(all_bet_list))\n",
    "\n",
    "select_bet = Select(bet_type_specific)\n",
    "display_bet=driver.find_element(By.XPATH, \"//button[@class='btn-block button button--orange btn btn-default']\")\n",
    "for bet_type in bet_type_list:\n",
    "    select_bet.select_by_visible_text(bet_type)\n",
    "    display_bet.click()\n",
    "    time.sleep(3) #Wait for elements to load\n",
    "    \n",
    "\n",
    "    # Bet Type may not always be available; Skip to next bet type\n",
    "    try:\n",
    "        # Load More Button\n",
    "        load_button = driver.find_element(By.CLASS_NAME,\"event-list__load-all-events\")\n",
    "        load_button.click()\n",
    "    except:\n",
    "        continue\n",
    "\n",
    "    # Deprecated. Keep it in for now\n",
    "    # bet_type_quantity = driver.find_element(By.XPATH, \"//div[@class='filter__control']\")\n",
    "    # bet_type_quantity_text = bet_type_quantity.text\n",
    "    # with open(\"sg_pools_bettype.json\", \"a\") as json_file:\n",
    "    #     json_file.write(json.dumps(bet_type_quantity_text.split('\\n')))\n",
    "\n",
    "\n",
    "    events = driver.find_elements(By.XPATH,\"//div[@class='event-list']//div[@class='event-list__group']\")\n",
    "    more_bets = driver.find_elements(By.CLASS_NAME, \"show-all\")\n",
    "    for more in more_bets:\n",
    "        more.click()\n",
    "    for event in events:\n",
    "        events_text = {bet_type : event.text.split('\\n')}\n",
    "        # events_text = {bet_type : event.json()}\n",
    "        with open(\"sg_pools2.json\",'a') as json_file:\n",
    "            json_file.write(json.dumps(events_text))\n",
    "\n",
    "driver.close()\n"
   ]
  },
  {
   "cell_type": "code",
   "execution_count": null,
   "metadata": {},
   "outputs": [
    {
     "data": {
      "text/plain": [
       "312"
      ]
     },
     "execution_count": 34,
     "metadata": {},
     "output_type": "execute_result"
    }
   ],
   "source": [
    "# f = open('sg_pools.txt','w')\n",
    "# f.write(events_text)\n",
    "# g=open('sg_pools_bettype.txt','w')\n",
    "# g.write(bet_type_quantity1)"
   ]
  },
  {
   "cell_type": "code",
   "execution_count": null,
   "metadata": {},
   "outputs": [
    {
     "data": {
      "text/plain": [
       "['1/2 Goal',\n",
       " '1st Goal Scorer',\n",
       " '1X2',\n",
       " 'Asian Handicap/HT Asian Handicap',\n",
       " 'Halftime 1x2',\n",
       " 'Halftime Total Goals',\n",
       " 'Halftime-Fulltime',\n",
       " 'Handicap 1X2',\n",
       " 'Last Goal Scorer',\n",
       " 'Pick the Score',\n",
       " 'Team to Score 1st Goal',\n",
       " 'Total Goals',\n",
       " 'Total Goals Odd/Even',\n",
       " 'Total Goals Over/Under',\n",
       " 'Will Both Teams Score']"
      ]
     },
     "execution_count": 35,
     "metadata": {},
     "output_type": "execute_result"
    }
   ],
   "source": [
    "bet_type_list"
   ]
  },
  {
   "cell_type": "code",
   "execution_count": null,
   "metadata": {},
   "outputs": [
    {
     "data": {
      "text/plain": [
       "'1/2 Goal\\n1st Goal Scorer\\n1X2\\nAsian Handicap/HT Asian Handicap\\nHalftime 1x2\\nHalftime Total Goals\\nHalftime-Fulltime\\nHandicap 1X2\\nLast Goal Scorer\\nPick the Score\\nTeam to Score 1st Goal\\nTotal Goals\\nTotal Goals Odd/Even\\nTotal Goals Over/Under\\nWill Both Teams Score'"
      ]
     },
     "execution_count": 20,
     "metadata": {},
     "output_type": "execute_result"
    }
   ],
   "source": [
    "bet_type_quantity_text"
   ]
  },
  {
   "cell_type": "code",
   "execution_count": 1,
   "metadata": {},
   "outputs": [
    {
     "data": {
      "text/plain": [
       "<Response [200]>"
      ]
     },
     "execution_count": 1,
     "metadata": {},
     "output_type": "execute_result"
    }
   ],
   "source": [
    "import requests\n",
    "url = \"https://sg.1xbet.com/en/line/football\"\n",
    "\n",
    "url_response = requests.get(url)\n",
    "url_response"
   ]
  },
  {
   "cell_type": "code",
   "execution_count": 4,
   "metadata": {},
   "outputs": [
    {
     "data": {
      "text/plain": [
       "True"
      ]
     },
     "execution_count": 4,
     "metadata": {},
     "output_type": "execute_result"
    }
   ],
   "source": [
    "url_response.status_code==200"
   ]
  },
  {
   "cell_type": "code",
   "execution_count": null,
   "metadata": {},
   "outputs": [],
   "source": []
  }
 ],
 "metadata": {
  "kernelspec": {
   "display_name": ".venv",
   "language": "python",
   "name": "python3"
  },
  "language_info": {
   "codemirror_mode": {
    "name": "ipython",
    "version": 3
   },
   "file_extension": ".py",
   "mimetype": "text/x-python",
   "name": "python",
   "nbconvert_exporter": "python",
   "pygments_lexer": "ipython3",
   "version": "3.12.1"
  }
 },
 "nbformat": 4,
 "nbformat_minor": 2
}
