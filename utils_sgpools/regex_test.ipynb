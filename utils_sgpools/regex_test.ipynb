{
 "cells": [
  {
   "cell_type": "code",
   "execution_count": 11,
   "metadata": {},
   "outputs": [],
   "source": [
    "import re"
   ]
  },
  {
   "cell_type": "code",
   "execution_count": 12,
   "metadata": {},
   "outputs": [],
   "source": [
    "TestString='Sat, 16 Mar 2024\\n10.30pm 3589\\nDarmstadt vs Bayern Munich (Live)\\n01\\n-.--\\n02\\n-.--\\n03\\n-.--\\n10.30pm 3576\\nHeidenheim vs Monchengladbach (Live)\\n01\\n9.50\\n02\\n3.60\\n03\\n1.37\\n10.30pm 3550\\nMainz vs Bochum (Live)\\n01\\n1.23\\n02\\n4.30\\n03\\n12.00\\n10.30pm 3548\\nWolfsburg vs Augsburg (Live)\\n01\\n-.--\\n02\\n-.--\\n03\\n-.--\\n11.00pm 3714\\nBurnley vs Brentford (Live)\\n01\\n1.17\\n02\\n5.00\\n03\\n16.00\\n11.00pm 3754\\nLuton vs Nottingham (Live)\\n01\\n6.50\\n02\\n3.75\\n03\\n1.45\\n11.00pm 3695\\nWest Bromwich vs Bristol City (Live)\\n01\\n1.17\\n02\\n5.00\\n03\\n16.00\\n11.15pm 3551\\nOsasuna vs Real Madrid (Live)\\n01\\n13.00\\n02\\n5.20\\n03\\n1.17\\n11.15pm 3708\\nEibar vs Villarreal (B) (Live)\\n01\\n1.67\\n02\\n2.90\\n03\\n5.20'\n"
   ]
  },
  {
   "cell_type": "code",
   "execution_count": 13,
   "metadata": {},
   "outputs": [],
   "source": [
    "pattern = r'(\\d*\\.\\d{2}\\w{2}) (\\d{4})\\n([\\w\\s]*) vs ([\\w\\s]*)'\n",
    "\n",
    "# myregex = r'^(\\d+\\.\\d{2}\\w{2})\\s(\\d{4})\\\\n([\\w|\\s]+?)\\svs\\s([\\w|\\s]+?)\\s'"
   ]
  },
  {
   "cell_type": "code",
   "execution_count": 14,
   "metadata": {},
   "outputs": [],
   "source": [
    "getall = re.findall(pattern,TestString)"
   ]
  },
  {
   "cell_type": "code",
   "execution_count": 15,
   "metadata": {},
   "outputs": [
    {
     "data": {
      "text/plain": [
       "[('10.30pm', '3589', 'Darmstadt', 'Bayern Munich '),\n",
       " ('10.30pm', '3576', 'Heidenheim', 'Monchengladbach '),\n",
       " ('10.30pm', '3550', 'Mainz', 'Bochum '),\n",
       " ('10.30pm', '3548', 'Wolfsburg', 'Augsburg '),\n",
       " ('11.00pm', '3714', 'Burnley', 'Brentford '),\n",
       " ('11.00pm', '3754', 'Luton', 'Nottingham '),\n",
       " ('11.00pm', '3695', 'West Bromwich', 'Bristol City '),\n",
       " ('11.15pm', '3551', 'Osasuna', 'Real Madrid '),\n",
       " ('11.15pm', '3708', 'Eibar', 'Villarreal ')]"
      ]
     },
     "execution_count": 15,
     "metadata": {},
     "output_type": "execute_result"
    }
   ],
   "source": [
    "getall"
   ]
  },
  {
   "cell_type": "code",
   "execution_count": null,
   "metadata": {},
   "outputs": [],
   "source": []
  }
 ],
 "metadata": {
  "kernelspec": {
   "display_name": ".venv",
   "language": "python",
   "name": "python3"
  },
  "language_info": {
   "codemirror_mode": {
    "name": "ipython",
    "version": 3
   },
   "file_extension": ".py",
   "mimetype": "text/x-python",
   "name": "python",
   "nbconvert_exporter": "python",
   "pygments_lexer": "ipython3",
   "version": "3.11.2"
  }
 },
 "nbformat": 4,
 "nbformat_minor": 2
}
