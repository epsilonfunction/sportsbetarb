{
 "cells": [
  {
   "cell_type": "code",
   "execution_count": 39,
   "metadata": {},
   "outputs": [],
   "source": [
    "import numpy as np \n",
    "# import pandas as pd\n",
    "import time\n",
    "import json\n",
    "import logging \n",
    "import re\n",
    "\n",
    "from selenium import webdriver\n",
    "from selenium.webdriver.common.keys import Keys\n",
    "from selenium.webdriver.common.by import By \n",
    "from selenium.webdriver.support.ui import Select\n",
    "from selenium.webdriver.support.wait import WebDriverWait \n",
    "from selenium.webdriver.support import expected_conditions as EC\n",
    "from selenium.webdriver import Chrome\n",
    "\n"
   ]
  },
  {
   "cell_type": "code",
   "execution_count": 40,
   "metadata": {},
   "outputs": [],
   "source": [
    "target_url = \"https://22bet33.com/\"\n",
    "# target_url = \"https://22bet33.com/en/live/football/\"\n",
    "options = webdriver.ChromeOptions()\n",
    "# options.add_argument(\"--headless\")\n",
    "driver = webdriver.Chrome(options=options)\n",
    "driver.get(target_url)\n",
    "\n",
    "all_competitons = driver.find_element(By.CLASS_NAME, \"block_1\")\n",
    "\n"
   ]
  },
  {
   "cell_type": "code",
   "execution_count": 41,
   "metadata": {},
   "outputs": [
    {
     "name": "stdout",
     "output_type": "stream",
     "text": [
      "Football\n",
      "(34)\n",
      "Tennis\n",
      "(19)\n",
      "Basketball\n",
      "(16)\n",
      "Ice Hockey\n",
      "(12)\n",
      "Volleyball\n",
      "(19)\n",
      "Table Tennis\n",
      "(30)\n",
      "Handball\n",
      "(3)\n",
      "Cricket\n",
      "(13)\n",
      "Esports\n",
      "(12)\n"
     ]
    }
   ],
   "source": [
    "# for j in all_competitons:\n",
    "#     print(j.text)\n",
    "\n",
    "print(all_competitons.text)"
   ]
  },
  {
   "cell_type": "code",
   "execution_count": 42,
   "metadata": {},
   "outputs": [
    {
     "data": {
      "text/plain": [
       "<selenium.webdriver.remote.webelement.WebElement (session=\"652b6dd91115b375dd739240a500dab7\", element=\"f.03DCB955734A33C78FF162AE8072FE08.d.56686E802AD0425EE21717714354384C.e.83\")>"
      ]
     },
     "execution_count": 42,
     "metadata": {},
     "output_type": "execute_result"
    }
   ],
   "source": [
    "all_competitons"
   ]
  },
  {
   "cell_type": "code",
   "execution_count": 43,
   "metadata": {},
   "outputs": [
    {
     "data": {
      "text/plain": [
       "''"
      ]
     },
     "execution_count": 43,
     "metadata": {},
     "output_type": "execute_result"
    }
   ],
   "source": [
    "# football_elem = all_competitons.find_elements(By.XPATH, \"//a[@href]\")[0]\n",
    "football_elem = all_competitons.find_elements(By.XPATH, \"//a[@title='Football']\")\n",
    "football_elem.text"
   ]
  },
  {
   "cell_type": "code",
   "execution_count": 44,
   "metadata": {},
   "outputs": [],
   "source": [
    "\n",
    "driver.close()"
   ]
  }
 ],
 "metadata": {
  "kernelspec": {
   "display_name": ".venv",
   "language": "python",
   "name": "python3"
  },
  "language_info": {
   "codemirror_mode": {
    "name": "ipython",
    "version": 3
   },
   "file_extension": ".py",
   "mimetype": "text/x-python",
   "name": "python",
   "nbconvert_exporter": "python",
   "pygments_lexer": "ipython3",
   "version": "3.11.2"
  }
 },
 "nbformat": 4,
 "nbformat_minor": 2
}
