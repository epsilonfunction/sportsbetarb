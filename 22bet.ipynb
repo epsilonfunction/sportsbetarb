{
 "cells": [
  {
   "cell_type": "code",
   "execution_count": 1,
   "metadata": {},
   "outputs": [],
   "source": [
    "import json\n",
    "import time\n",
    "\n",
    "from selenium import webdriver\n",
    "from selenium.webdriver.common.by import By \n",
    "from selenium.webdriver.support.ui import Select\n",
    "\n"
   ]
  },
  {
   "cell_type": "code",
   "execution_count": null,
   "metadata": {},
   "outputs": [],
   "source": []
  },
  {
   "cell_type": "code",
   "execution_count": 6,
   "metadata": {},
   "outputs": [
    {
     "name": "stdout",
     "output_type": "stream",
     "text": [
      "Japan. J-League\n",
      "6\n",
      "Russian Championship. League 1\n",
      "1\n",
      "Australia. New South Wales Premier League\n",
      "1\n",
      "Japan. WE League. Women\n",
      "1\n",
      "Australia Championship. National Queensland Premier League U23\n",
      "4\n",
      "Australia Championship. Queensland Premier League U23\n",
      "6\n",
      "Australia. New South Wales Premier League 2\n",
      "4\n",
      "Australia. New South Wales Premier League 2 U20\n",
      "6\n",
      "Australia. New South Wales Premier League U20\n",
      "3\n"
     ]
    }
   ],
   "source": [
    "target_url=\"https://22bets.me/en/live/football\"\n",
    "\n",
    "options = webdriver.ChromeOptions()\n",
    "# options.add_argument(\"--headless\")\n",
    "driver = webdriver.Chrome(options=options)\n",
    "driver.get(target_url)\n",
    "\n",
    "time.sleep(30)\n",
    "\n",
    "competition_list = driver.find_element(By.XPATH,\"//ul[@class='liga_menu']\")\n",
    "# for competition in competition_list:\n",
    "print(competition_list.text)\n",
    "\n",
    "driver.close()\n"
   ]
  },
  {
   "cell_type": "code",
   "execution_count": null,
   "metadata": {},
   "outputs": [],
   "source": []
  }
 ],
 "metadata": {
  "kernelspec": {
   "display_name": ".venv",
   "language": "python",
   "name": "python3"
  },
  "language_info": {
   "codemirror_mode": {
    "name": "ipython",
    "version": 3
   },
   "file_extension": ".py",
   "mimetype": "text/x-python",
   "name": "python",
   "nbconvert_exporter": "python",
   "pygments_lexer": "ipython3",
   "version": "3.12.2"
  }
 },
 "nbformat": 4,
 "nbformat_minor": 2
}
